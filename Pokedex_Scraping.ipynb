{
 "cells": [
  {
   "cell_type": "markdown",
   "metadata": {},
   "source": [
    "### Jadon Oliver\n",
    "### 4/3/2024\n",
    "### Pokedex Web Scraping"
   ]
  },
  {
   "cell_type": "code",
   "execution_count": null,
   "metadata": {},
   "outputs": [],
   "source": [
    "import requests\n",
    "from bs4 import BeautifulSoup as bs\n",
    "import pandas as pd\n",
    "import time\n",
    "import re\n",
    "import seaborn as sns\n",
    "import matplotlib.pyplot as plt\n"
   ]
  },
  {
   "cell_type": "markdown",
   "source": [
    "# This Program's purpose is to scrape the information from popular pokedex website serebii and find out different pieces of information from that data about the newer games: Pokemon Scarlet and Violet"
   ],
   "metadata": {
    "collapsed": false
   }
  },
  {
   "cell_type": "markdown",
   "source": [
    "# scrapes the data from the url"
   ],
   "metadata": {
    "collapsed": false
   }
  },
  {
   "cell_type": "code",
   "execution_count": null,
   "metadata": {},
   "outputs": [],
   "source": [
    "# Function to scrape Pokémon data from a given URL\n",
    "def scrape_pokemon_data(url):\n",
    "    response = requests.get(url)\n",
    "    status = response.status_code\n",
    "    if status == 200:\n",
    "        page = response.content\n",
    "        soup = bs(page, 'html.parser')\n",
    "        # Add your scraping logic here\n",
    "        return soup\n",
    "    else:\n",
    "        print(f\"Oops! Received status code {status}\")\n",
    "        return None"
   ]
  },
  {
   "cell_type": "markdown",
   "source": [
    "# Scrapes all of the data from seribii and puts all of it into a dataframe"
   ],
   "metadata": {
    "collapsed": false
   }
  },
  {
   "cell_type": "markdown",
   "source": [
    "# Provides all lists needed for the program"
   ],
   "metadata": {
    "collapsed": false
   }
  },
  {
   "cell_type": "code",
   "execution_count": null,
   "outputs": [],
   "source": [
    "# Define column names for DataFrame\n",
    "columns = [\n",
    "        \"Name\",\n",
    "        \"Pokedex Number\",\n",
    "        \"Type\",\n",
    "        \"Base Stats Total\",\n",
    "        \"Health\",\n",
    "        \"Attack\",\n",
    "        \"Defense\",\n",
    "        \"Special Attack\",\n",
    "        \"Special Defense\",\n",
    "        \"Speed\",\n",
    "        \"Generation\",\n",
    "        \"Location\",\n",
    "        \"S/V Regional Variants\",\n",
    "        \"Legendary/Mythical\",\n",
    "]\n",
    "# List of legendary and mythical Pokémon\n",
    "legendary_mythical_pokemon = [\n",
    "        \"Articuno\",\n",
    "        \"Zapdos\",\n",
    "        \"Moltres\",\n",
    "        \"Mewtwo\",\n",
    "        \"Mew\",\n",
    "        \"Raikou\",\n",
    "        \"Entei\",\n",
    "        \"Suicune\",\n",
    "        \"Lugia\",\n",
    "        \"Ho-Oh\",\n",
    "        \"Celebi\",\n",
    "        \"Regirock\",\n",
    "        \"Regice\",\n",
    "        \"Registeel\",\n",
    "        \"Latias\",\n",
    "        \"Latios\",\n",
    "        \"Kyogre\",\n",
    "        \"Groudon\",\n",
    "        \"Rayquaza\",\n",
    "        \"Jirachi\",\n",
    "        \"Deoxys\",\n",
    "        \"Uxie\",\n",
    "        \"Mesprit\",\n",
    "        \"Azelf\",\n",
    "        \"Dialga\",\n",
    "        \"Palkia\",\n",
    "        \"Heatran\",\n",
    "        \"Regigigas\",\n",
    "        \"Giratina\",\n",
    "        \"Cresselia\",\n",
    "        \"Phione\",\n",
    "        \"Manaphy\",\n",
    "        \"Darkrai\",\n",
    "        \"Shaymin\",\n",
    "        \"Arceus\",\n",
    "        \"Victini\",\n",
    "        \"Cobalion\",\n",
    "        \"Terrakion\",\n",
    "        \"Virizion\",\n",
    "        \"Tornadus\",\n",
    "        \"Thundurus\",\n",
    "        \"Reshiram\",\n",
    "        \"Zekrom\",\n",
    "        \"Landorus\",\n",
    "        \"Kyurem\",\n",
    "        \"Keldeo\",\n",
    "        \"Meloetta\",\n",
    "        \"Genesect\",\n",
    "        \"Xerneas\",\n",
    "        \"Yveltal\",\n",
    "        \"Zygarde\",\n",
    "        \"Diancie\",\n",
    "        \"Hoopa\",\n",
    "        \"Volcanion\",\n",
    "        \"Type: Null\",\n",
    "        \"Silvally\",\n",
    "        \"Tapu Koko\",\n",
    "        \"Tapu Lele\",\n",
    "        \"Tapu Bulu\",\n",
    "        \"Tapu Fini\",\n",
    "        \"Cosmog\",\n",
    "        \"Cosmoem\",\n",
    "        \"Solgaleo\",\n",
    "        \"Lunala\",\n",
    "        \"Necrozma\",\n",
    "        \"Magearna\",\n",
    "        \"Marshadow\",\n",
    "        \"Zeraora\",\n",
    "        \"Meltan\",\n",
    "        \"Melmetal\",\n",
    "        \"Zarude\",\n",
    "        \"Regieleki\",\n",
    "        \"Regidrago\",\n",
    "        \"Glastrier\",\n",
    "        \"Spectrier\",\n",
    "        \"Calyrex\",\n",
    "        \"Kubfu\",\n",
    "        \"Urshifu\",\n",
    "        \"Enamorus\",\n",
    "        \"Wo-Chien\",\n",
    "        \"Chien-Pao\",\n",
    "        \"Ting-Lu\",\n",
    "        \"Chi-Yu\",\n",
    "        \"Okidogi\",\n",
    "        \"Munkidori\",\n",
    "        \"Fezandipiti\",\n",
    "        \"Ogerpon\",\n",
    "        \"Zacian\",\n",
    "        \"Zamazenta\",\n",
    "        \"Eternatus\",\n",
    "        \"Koraidon\",\n",
    "        \"Miraidon\",\n",
    "        \"Terapagos\",\n",
    "        \"Pecharunt\"\n",
    "        \n",
    "]\n",
    "    \n",
    "# List of regional variants\n",
    "regional_var_list = [\n",
    "        \"Wooper\",\n",
    "        \"Tauros\",\n",
    "        \"Clodsire\",\n",
    "        \"Dipplin\",\n",
    "        \"Hydrapple\",\n",
    "        \"Wiglett\",\n",
    "        \"Toedscruel\",\n",
    "        \"Wugtrio\",\n",
    "        \"Toedscool\",\n",
    "        \"Great Tusk\",\n",
    "        \"Scream Tail\",\n",
    "        \"Brute Bonnet\",\n",
    "        \"Flutter Mane\",\n",
    "        \"Slither Wing\",\n",
    "        \"Sandy Shocks\",\n",
    "        \"Roaring Moon\",\n",
    "        \"Walking Wake\",\n",
    "        \"Gouging Fire\",\n",
    "        \"Raging Bolt\",\n",
    "        \"Iron Treads\",\n",
    "        \"Iron Bundle\",\n",
    "        \"Iron Hands\",\n",
    "        \"Iron Jugulis\",\n",
    "        \"Iron Moth\",\n",
    "        \"Iron Thorns\",\n",
    "        \"Iron Valiant\",\n",
    "        \"Iron Leaves\",\n",
    "        \"Iron Boulder\",\n",
    "        \"Iron Crown\"\n",
    "        \n",
    "]\n",
    "    \n",
    "# List of locations\n",
    "locations_list = [\n",
    "        \"Alfornada\",\n",
    "        \"Alfornada Cavern\",\n",
    "        \"Area Zero\",\n",
    "        \"Artazon\",\n",
    "        \"Asado Desert\",\n",
    "        \"Cabo Poco\",\n",
    "        \"Caph Squad Base\",\n",
    "        \"Cascarrafa\",\n",
    "        \"Casseroya Lake\",\n",
    "        \"Cortondo\",\n",
    "        \"Dalizapa Passage\",\n",
    "        \"East Paldean Sea\",\n",
    "        \"East Province\",\n",
    "        \"Glaseado Mountain\",\n",
    "        \"Great Crater of Paldea\",\n",
    "        \"Inlet Grotto\",\n",
    "        \"Levincia\",\n",
    "        \"Los Platos\",\n",
    "        \"Medali\",\n",
    "        \"Mesagoza\",\n",
    "        \"Montenevera\",\n",
    "        \"Naranja Academu\",\n",
    "        \"Navi Squad's Base\",\n",
    "        \"North Paldean Sea\",\n",
    "        \"North Province\",\n",
    "        \"Poco Path\",\n",
    "        \"Pokemon League\",\n",
    "        \"Porto Marinada\",\n",
    "        \"Research Station\",\n",
    "        \"Ruchbah Squad's Base\",\n",
    "        \"Schedar Squad's Base\",\n",
    "        \"Segin Squad's Base\",\n",
    "        \"Socarrat Trail\",\n",
    "        \"South Paldean Sea\",\n",
    "        \"South Province\",\n",
    "        \"Tagtree Thicket\",\n",
    "        \"Uva Academy\",\n",
    "        \"West Paldean Sea\",\n",
    "        \"West Province\",\n",
    "        \"Zapapico\",\n",
    "        \"Zero Gate\",\n",
    "        \"Zero Lab\",\n",
    "]"
   ],
   "metadata": {
    "collapsed": false
   }
  },
  {
   "cell_type": "code",
   "execution_count": null,
   "outputs": [],
   "source": [
    "# Function to process Pokémon data \n",
    "def process_pokemon_data(url):\n",
    "\n",
    "    # Initialize an empty DataFrame\n",
    "    pokemon_df = pd.DataFrame(columns=columns)\n",
    "    \n",
    "    # Initialize a stack to store URLs to be processed\n",
    "    url_stack = [url]\n",
    "\n",
    "    # Loop until there are URLs to be processed\n",
    "    while url_stack:\n",
    "        # Pop the last URL from the stack\n",
    "        current_url = url_stack.pop()\n",
    "\n",
    "        # Scrape Pokémon data from the current URL\n",
    "        soup = scrape_pokemon_data(current_url)\n",
    "\n",
    "        # Check if scraping was successful\n",
    "        if soup:\n",
    "            # Extract information about Pokémon from the scraped HTML\n",
    "            fooinfo_elements = soup.find_all(\"td\", class_=\"fooinfo\")\n",
    "            fooinfo_img_elements = soup.find_all(\"td\", class_=\"cen\")\n",
    "            pokemon_name = \"\"\n",
    "            final_types = []\n",
    "            bst_value = 0\n",
    "            health, attack, defense, special_attack, special_defense, speed = (\n",
    "                0,\n",
    "                0,\n",
    "                0,\n",
    "                0,\n",
    "                0,\n",
    "                0,\n",
    "            )\n",
    "            pokenum, pokegen = 0, None\n",
    "            poke_location = []\n",
    "\n",
    "            for element in fooinfo_elements:\n",
    "                text = element.text.strip()\n",
    "                if text:\n",
    "                    # Pokémon Name\n",
    "                    if not pokemon_name:\n",
    "                        pokemon_name = text\n",
    "                    # Pokedex Number\n",
    "                    pokenum_match = re.search(r\"National: #(\\d+)\", text)\n",
    "                    if pokenum_match:\n",
    "                        pokenum = int(pokenum_match.group(1))\n",
    "            bst_value = 0\n",
    "\n",
    "            final_types = []\n",
    "\n",
    "            for element in fooinfo_img_elements:\n",
    "                try:\n",
    "                    types = element.find(attrs={\"class\": \"typeimg\"}).get(\"alt\")\n",
    "                    next_img = element.find_next(\"img\", attrs={\"class\": \"typeimg\"})\n",
    "                    if next_img:\n",
    "                        types += \"/\" + next_img.get(\"alt\")\n",
    "                        while next_img := next_img.find_next(\n",
    "                            \"img\", attrs={\"class\": \"typeimg\"}\n",
    "                        ):\n",
    "                            types += \"/\" + next_img.get(\"alt\")\n",
    "\n",
    "                    final_types.append(types)\n",
    "                except Exception as e:\n",
    "                    print(\"\")\n",
    "\n",
    "            # Convert final_types to a single string separated by '/'\n",
    "            final_types_str = \"/\".join(set(\"/\".join(final_types).split(\"/\")))\n",
    "\n",
    "            for element in fooinfo_elements:\n",
    "                # Use regular expression to search for the base stats total block\n",
    "                bst_match = re.search(r\"Base Stats - Total: (\\d+)\", element.text)\n",
    "                if bst_match:\n",
    "                    bst_value = int(bst_match.group(1))\n",
    "                    next_elements = element.find_next_siblings(\n",
    "                        \"td\", limit=6\n",
    "                    )  # Limit to 6 siblings to get subsequent stats\n",
    "\n",
    "                    if len(next_elements) >= 6:\n",
    "                        health = next_elements[0].text.strip()\n",
    "                        attack = next_elements[1].text.strip()\n",
    "                        defense = next_elements[2].text.strip()\n",
    "                        special_attack = next_elements[3].text.strip()\n",
    "                        special_defense = next_elements[4].text.strip()\n",
    "                        speed = next_elements[5].text.strip()\n",
    "\n",
    "                    break  # Exit the loop once base stats are found\n",
    "\n",
    "            # Determine Generation\n",
    "            if 1 <= pokenum < 152:\n",
    "                pokegen = 1\n",
    "            elif 152 <= pokenum < 252:\n",
    "                pokegen = 2\n",
    "            elif 252 <= pokenum < 387:\n",
    "                pokegen = 3\n",
    "            elif 387 <= pokenum < 494:\n",
    "                pokegen = 4\n",
    "            elif 494 <= pokenum < 650:\n",
    "                pokegen = 5\n",
    "            elif 650 <= pokenum < 722:\n",
    "                pokegen = 6\n",
    "            elif 722 <= pokenum < 810:\n",
    "                pokegen = 7\n",
    "            elif pokenum >= 810 and pokenum < 906:\n",
    "                pokegen = 8\n",
    "            elif pokenum >= 906 and pokenum <= 1025:\n",
    "                pokegen = 9\n",
    "\n",
    "            # Check if legendary/mythical\n",
    "            lege_poke = \"Yes\" if pokemon_name in legendary_mythical_pokemon else \"No\"\n",
    "\n",
    "            # Check if regional variant\n",
    "            regional_var_poke = \"Yes\" if pokemon_name in regional_var_list else \"No\"\n",
    "\n",
    "            # Find locations\n",
    "            for location in locations_list:\n",
    "                if re.search(\n",
    "                    location, \" \".join([el.text.strip() for el in fooinfo_elements])\n",
    "                ):\n",
    "                    poke_location.append(location)\n",
    "\n",
    "            # Create row data\n",
    "            extracted_pokemon = {\n",
    "                \"Name\": pokemon_name,\n",
    "                \"Pokedex Number\": pokenum,\n",
    "                \"Type\": final_types_str,\n",
    "                \"Base Stats Total\": bst_value,\n",
    "                \"Health\": health,\n",
    "                \"Attack\": attack,\n",
    "                \"Defense\": defense,\n",
    "                \"Special Attack\": special_attack,\n",
    "                \"Special Defense\": special_defense,\n",
    "                \"Speed\": speed,\n",
    "                \"Generation\": pokegen,\n",
    "                \"Location\": \",\".join(poke_location),\n",
    "                \"S/V Regional Variants\": regional_var_poke,\n",
    "                \"Legendary/Mythical\": lege_poke,\n",
    "            }\n",
    "\n",
    "            # Append to DataFrame\n",
    "            pokemon_df = pd.concat(\n",
    "                [pokemon_df, pd.DataFrame([extracted_pokemon])], ignore_index=True\n",
    "            )\n",
    "\n",
    "            # Find next page URL\n",
    "            possibleCorrectHrefs = []\n",
    "            href_tags = soup.find_all(\"a\", href=True)\n",
    "            for tag in href_tags:\n",
    "                href = tag.get(\"href\")\n",
    "                if \"/pokedex-sv/\" in href:\n",
    "                    possibleCorrectHrefs.append(href)\n",
    "            if possibleCorrectHrefs:\n",
    "                correctHref = possibleCorrectHrefs[-1]  # Get the last href\n",
    "                next_url = \"https://www.serebii.net\" + correctHref\n",
    "                url_stack.append(next_url)\n",
    "\n",
    "            if pokenum == 1025:\n",
    "                break\n",
    "\n",
    "    return pokemon_df\n",
    "\n",
    "\n",
    "url = \"https://www.serebii.net/pokedex-sv/bulbasaur/\"\n",
    "pokemon_data = process_pokemon_data(url)\n",
    "if pokemon_data is not None:\n",
    "    display(pokemon_data)\n",
    "else:\n",
    "    print(\"Error retrieving data.\")\n"
   ],
   "metadata": {
    "collapsed": false
   }
  },
  {
   "cell_type": "code",
   "execution_count": null,
   "outputs": [],
   "source": [
    "#convert data frame to csv file to save data\n",
    "pokemon_data.to_csv('pokemon_data.csv')"
   ],
   "metadata": {
    "collapsed": false
   }
  },
  {
   "cell_type": "markdown",
   "source": [
    "## 1. What types of Pokemon (grass, water, fire) were the most added in the new Scarlet and Violet generation?"
   ],
   "metadata": {
    "collapsed": false
   }
  },
  {
   "cell_type": "code",
   "execution_count": null,
   "outputs": [],
   "source": [
    "# Get file path for pokemon data csv\n",
    "file_path = 'pokemon_data.csv'\n",
    "\n",
    "# Read the CSV file into a DataFrame\n",
    "pokemon_data = pd.read_csv(file_path)\n",
    "\n",
    "# Filter Pokémon data for Scarlet and Violet generation (Generation 9)\n",
    "scarlet_violet_pokemon = pokemon_data[pokemon_data['Generation'] == 9]\n",
    "\n",
    "# Split the types for each Pokémon and count them accordingly\n",
    "types = []\n",
    "for row in scarlet_violet_pokemon['Type']:\n",
    "    types.extend(row.split('/'))\n",
    "\n",
    "# Count the types\n",
    "type_counts = pd.Series(types).value_counts()\n",
    "\n",
    "display(type_counts)\n",
    "\n",
    "# Set the context for the plots\n",
    "sns.set_context(\"talk\", font_scale=0.7)  # Decrease text size\n",
    "\n",
    "# Plot the count of Pokémon types using a bar plot\n",
    "ax = sns.barplot(x=type_counts.index, y=type_counts.values, palette=\"magma\")  # Change color palette to \"magma\"\n",
    "ax.set_title(\"Most Added Pokémon Types in Scarlet and Violet Generation\")\n",
    "ax.set_xlabel(\"Pokémon Type\")\n",
    "ax.set_ylabel(\"Count\")\n",
    "ax.set_xticklabels(ax.get_xticklabels(), rotation=45, ha=\"right\")  # Rotate the x-axis labels\n",
    "ax.set_yticks(range(0, max(type_counts.values) + 1, 2))  # Increment y-axis ticks by 2\n",
    "sns.despine()  # Remove the top and right spines\n",
    "sns.set_style(\"whitegrid\")  # Set the style to whitegrid"
   ],
   "metadata": {
    "collapsed": false
   }
  },
  {
   "cell_type": "markdown",
   "source": [
    "### Looking at the plot above, Grass type was the most added type in the new generation followed by normal and dragon type while flying type was the least added type. Historically, dragon types used to be the least common type in pokemon but it is interesting to see that shift in this game."
   ],
   "metadata": {
    "collapsed": false
   }
  },
  {
   "cell_type": "markdown",
   "source": [
    "## 2. How many regional variants were added to Scarlet and Violet compared to previous games?"
   ],
   "metadata": {
    "collapsed": false
   }
  },
  {
   "cell_type": "code",
   "execution_count": null,
   "outputs": [],
   "source": [
    "# Count regional variants in Scarlet and Violet\n",
    "scarlet_violet_regional_variant_count = scarlet_violet_pokemon[scarlet_violet_pokemon[\"S/V Regional Variants\"] == \"Yes\"].shape[0]\n",
    "\n",
    "print(\"Regional Variants added to Scarlet and Violet:\", scarlet_violet_regional_variant_count)\n"
   ],
   "metadata": {
    "collapsed": false
   }
  },
  {
   "cell_type": "markdown",
   "source": [
    "### Pokemon Scarlet and Violet added 27 regional Variants to the game. In the Alola region, there are 18 regional variants added to that specific region, 19 to the Galar Region, and 16 in the Hisui Region, making pokemon Scarlet and Violet the game with the most pokemon added based off old pokemon in the series"
   ],
   "metadata": {
    "collapsed": false
   }
  },
  {
   "cell_type": "markdown",
   "source": [
    "## 3. What are the base stat differences between previous generations of legendary and mythical Pokemon compared to those of Scarlet and Violet?"
   ],
   "metadata": {
    "collapsed": false
   }
  },
  {
   "cell_type": "code",
   "execution_count": null,
   "outputs": [],
   "source": [
    "# Filter legendary and mythical Pokémon\n",
    "legendary_mythical_pokemon = pokemon_data[pokemon_data[\"Legendary/Mythical\"] == \"Yes\"]\n",
    "\n",
    "\n",
    "# Define the stats columns\n",
    "stats_columns = [\"Base Stats Total\", \"Health\", \"Attack\", \"Defense\", \"Special Attack\", \"Special Defense\", \"Speed\"]\n",
    "\n",
    "# Calculate the average stats for each generation's legendary/mythical Pokémon\n",
    "average_stats_by_generation = legendary_mythical_pokemon.groupby(\"Generation\")[stats_columns].mean()\n",
    "\n",
    "print(\"Average Stats for each Generation's Legendary/Mythical Pokémon:\")\n",
    "display(average_stats_by_generation)\n",
    "\n"
   ],
   "metadata": {
    "collapsed": false
   }
  },
  {
   "cell_type": "markdown",
   "source": [
    "### Looking at the data, pokemon scarlet and violet has on average, the weakest legendary pokemon when comparing the stats to that of other generations except generation 7. My theory is a combination of 1: a lot of legendary and mythical pokemon are getting evolutions now which lower the base stat total average because of the pre evolutionary pokemon, and 2: they are adding more legendary pokemon in the most recent generations instead of having a handful which is overall lowering the amount of legendary pokemon with high stats."
   ],
   "metadata": {
    "collapsed": false
   }
  },
  {
   "cell_type": "markdown",
   "source": [
    "## 4. Which location in Pokemon Scarlet and Violet has statistically the highest possible stat Pokemon on average?"
   ],
   "metadata": {
    "collapsed": false
   }
  },
  {
   "cell_type": "code",
   "execution_count": null,
   "outputs": [],
   "source": [
    "# Initialize a dictionary to store total base stat total and count for each location\n",
    "location_stats = {location: {\"total\": 0, \"count\": 0} for location in locations_list}\n",
    "\n",
    "# Iterate through each row in the pokemon_data DataFrame\n",
    "for index, row in pokemon_data.iterrows():\n",
    "    # Check if the Location column has NaN values\n",
    "    if pd.notna(row[\"Location\"]):\n",
    "        # Split the locations string and iterate through each location\n",
    "        for location in row[\"Location\"].split(\",\"):\n",
    "            location = location.strip()  # Remove leading/trailing whitespaces\n",
    "            if location in location_stats:\n",
    "                # Update total base stat total and count for the location\n",
    "                location_stats[location][\"total\"] += row[\"Base Stats Total\"]\n",
    "                location_stats[location][\"count\"] += 1\n",
    "\n",
    "# Calculate mean base stat total for each location\n",
    "mean_base_stat_totals = {}\n",
    "for location, stats in location_stats.items():\n",
    "    if stats[\"count\"] > 0:\n",
    "        mean_base_stat_totals[location] = stats[\"total\"] / stats[\"count\"]\n",
    "    else:\n",
    "        mean_base_stat_totals[location] = 0  # Handle division by zero case\n",
    "# Convert dictionary to DataFrame\n",
    "mean_base_stat_df = pd.DataFrame(mean_base_stat_totals.items(), columns=[\"Location\", \"Mean Base Stat Total\"])\n",
    "\n",
    "# Filter out locations with mean base stat total of 0\n",
    "mean_base_stat_df = mean_base_stat_df[mean_base_stat_df[\"Mean Base Stat Total\"] != 0]\n",
    "\n",
    "# Sort DataFrame by mean base stat total in descending order\n",
    "mean_base_stat_df = mean_base_stat_df.sort_values(by=\"Mean Base Stat Total\", ascending=False)\n",
    "\n",
    "display(mean_base_stat_df)\n",
    "\n",
    "# Create point plot using Seaborn\n",
    "sns.set(style=\"whitegrid\")\n",
    "plt.figure(figsize=(10, 6))\n",
    "point_plot = sns.pointplot(x=\"Mean Base Stat Total\", y=\"Location\", data=mean_base_stat_df, join=False, color=\"blue\")\n",
    "point_plot.set_title('Mean Base Stat Total for Selected Locations')\n",
    "point_plot.set_xlabel('Mean Base Stat Total')\n",
    "point_plot.set_ylabel('Location')\n",
    "plt.show()\n"
   ],
   "metadata": {
    "collapsed": false
   }
  },
  {
   "cell_type": "markdown",
   "source": [
    "### Looking at this plot, We can see that the location with the highest base stat average is the Great Crater of Paldea and the lowest base stat average is Cascarrafa. If a player wanted to catch the strongest pokemon in the game, it would be beneficial for them to go to the Great Crater of Paldea as soon as possible."
   ],
   "metadata": {
    "collapsed": false
   }
  },
  {
   "cell_type": "code",
   "execution_count": null,
   "outputs": [],
   "source": [],
   "metadata": {
    "collapsed": false
   }
  }
 ],
 "metadata": {
  "kernelspec": {
   "display_name": "base",
   "language": "python",
   "name": "python3"
  },
  "language_info": {
   "codemirror_mode": {
    "name": "ipython",
    "version": 3
   },
   "file_extension": ".py",
   "mimetype": "text/x-python",
   "name": "python",
   "nbconvert_exporter": "python",
   "pygments_lexer": "ipython3",
   "version": "3.9.12"
  },
  "orig_nbformat": 4
 },
 "nbformat": 4,
 "nbformat_minor": 2
}
